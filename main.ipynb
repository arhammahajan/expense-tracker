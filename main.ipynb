{
 "cells": [
  {
   "cell_type": "markdown",
   "metadata": {},
   "source": [
    "# Expense Tracker App \n",
    "### Group-2 \n",
    "#### Arham Mahajan - 2023UME4145\n",
    "#### Anandini Kashyap - 2023UME4133\n",
    "#### Rayan Kapoor - 2023UME4134"
   ]
  },
  {
   "cell_type": "markdown",
   "metadata": {},
   "source": []
  },
  {
   "cell_type": "markdown",
   "metadata": {},
   "source": [
    "### Import Statements"
   ]
  },
  {
   "cell_type": "code",
   "execution_count": null,
   "metadata": {},
   "outputs": [],
   "source": [
    "from flask import Flask, request\n",
    "from pymongo import MongoClient\n",
    "from bson.objectid import ObjectId\n",
    "import json \n",
    "from bson import json_util"
   ]
  },
  {
   "cell_type": "markdown",
   "metadata": {},
   "source": [
    "### Constants Definitions"
   ]
  },
  {
   "cell_type": "code",
   "execution_count": null,
   "metadata": {},
   "outputs": [],
   "source": [
    "client = MongoClient(\"localhost\", 27017)\n",
    "app = Flask(__name__)\n",
    "\n",
    "DB = client['expense-tracker']\n",
    "USERS = DB.users\n",
    "EXPENSES = DB.expenses"
   ]
  },
  {
   "cell_type": "markdown",
   "metadata": {},
   "source": [
    "### Default Route"
   ]
  },
  {
   "cell_type": "code",
   "execution_count": null,
   "metadata": {},
   "outputs": [],
   "source": [
    "@app.route('/', methods=['GET'])\n",
    "def index():\n",
    "    return \"<p>This is an expense tracker application</p>\""
   ]
  },
  {
   "cell_type": "markdown",
   "metadata": {},
   "source": [
    "### Sign Up Route"
   ]
  },
  {
   "cell_type": "code",
   "execution_count": null,
   "metadata": {},
   "outputs": [],
   "source": [
    "@app.route('/signup', methods=['POST'])\n",
    "def signup():\n",
    "    error = None\n",
    "    user = dict(username = request.headers[\"username\"], password = request.headers[\"password\"])\n",
    "    if USERS.find_one(user):\n",
    "        return \"User already exists, please login\"         \n",
    "    USERS.insert_one(user)\n",
    "    return \"User created successfully\""
   ]
  },
  {
   "cell_type": "markdown",
   "metadata": {},
   "source": [
    "### Expense Add Route"
   ]
  },
  {
   "cell_type": "code",
   "execution_count": null,
   "metadata": {},
   "outputs": [],
   "source": [
    "@app.route('/add', methods=['POST'])\n",
    "def add():\n",
    "    headers = request.headers\n",
    "    user = USERS.find_one(dict(username = headers[\"username\"], password = headers[\"password\"]))\n",
    "    if not user:\n",
    "        return \"User does not exist, please signup\"\n",
    "    expense = EXPENSES.insert_one(dict(userid=user[\"_id\"], amount=headers[\"amount\"],category= headers[\"category\"],description= headers[\"description\"], date=headers[\"date\"]))\n",
    "    return str(expense.inserted_id)"
   ]
  },
  {
   "cell_type": "markdown",
   "metadata": {},
   "source": [
    "### Expenses List Route"
   ]
  },
  {
   "cell_type": "code",
   "execution_count": null,
   "metadata": {},
   "outputs": [],
   "source": [
    "@app.route('/list', methods=['GET'])\n",
    "def listexpenses(): \n",
    "    headers = request.headers\n",
    "    user = USERS.find_one(dict(username = headers[\"username\"], password = headers[\"password\"]))\n",
    "    if not user:\n",
    "        return \"User does not exist, please signup\"\n",
    "    expenses = list(EXPENSES.find({\"userid\":user[\"_id\"]}))\n",
    "    return json.loads(json_util.dumps(expenses))\n"
   ]
  },
  {
   "cell_type": "markdown",
   "metadata": {},
   "source": [
    "### Expense Delete Route"
   ]
  },
  {
   "cell_type": "code",
   "execution_count": null,
   "metadata": {},
   "outputs": [],
   "source": [
    "@app.route('/delete', methods=['DELETE'])\n",
    "def delete():\n",
    "    headers = request.headers\n",
    "    user = USERS.find_one(dict(username = headers[\"username\"], password = headers[\"password\"]))\n",
    "    if not user:\n",
    "        return \"User does not exist, please signup\"\n",
    "    expense = EXPENSES.find_one_and_delete({\"_id\":ObjectId(headers[\"id\"])})\n",
    "    if expense:\n",
    "        return \"Expense deleted successfully!\""
   ]
  },
  {
   "cell_type": "markdown",
   "metadata": {},
   "source": [
    "### Expense Update Route"
   ]
  },
  {
   "cell_type": "code",
   "execution_count": null,
   "metadata": {},
   "outputs": [],
   "source": [
    "@app.route('/update', methods=['PUT'])\n",
    "def update():\n",
    "    headers = request.headers\n",
    "    user = USERS.find_one(dict(username = headers[\"username\"], password = headers[\"password\"]))\n",
    "    if not user:\n",
    "        return \"User does not exist, please signup\"\n",
    "    updatedexpense = dict()\n",
    "    updatedexpense[\"$set\"] = dict(userid=user[\"_id\"], amount=headers[\"amount\"],category= headers[\"category\"],description= headers[\"description\"], date=headers[\"date\"])\n",
    "    expense = EXPENSES.find_one_and_update({\"_id\":ObjectId(headers[\"id\"])}, updatedexpense)\n",
    "    print(expense)\n",
    "    if expense:\n",
    "        return \"Expense updated successfully!\""
   ]
  }
 ],
 "metadata": {
  "kernelspec": {
   "display_name": "Python 3",
   "language": "python",
   "name": "python3"
  },
  "language_info": {
   "codemirror_mode": {
    "name": "ipython",
    "version": 3
   },
   "file_extension": ".py",
   "mimetype": "text/x-python",
   "name": "python",
   "nbconvert_exporter": "python",
   "pygments_lexer": "ipython3",
   "version": "3.9.9"
  }
 },
 "nbformat": 4,
 "nbformat_minor": 2
}
